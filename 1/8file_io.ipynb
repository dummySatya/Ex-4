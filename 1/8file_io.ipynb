{
 "cells": [
  {
   "cell_type": "code",
   "execution_count": 5,
   "metadata": {},
   "outputs": [
    {
     "data": {
      "text/plain": [
       "<_io.TextIOWrapper name='samplefile.txt' mode='r' encoding='UTF-8'>"
      ]
     },
     "execution_count": 5,
     "metadata": {},
     "output_type": "execute_result"
    }
   ],
   "source": [
    "# Use open() to open a file\n",
    "file = open(\"samplefile.txt\")\n",
    "file"
   ]
  },
  {
   "cell_type": "markdown",
   "metadata": {},
   "source": [
    "Always close file after opening, because resources are limited and u can only have limited(thousands) file handles by the OS. After that limit, it shows OSError of too many file handles.  \n",
    "This is done in order to prevent any resource leak, i.e., OS thinks that u are prolly doing smth wrong and hence limits u to open files.  \n",
    "\n",
    "Now why should I close the file?  \n",
    "Well python can close and tries to close the file without explicit mention too, but it so happens that, the write operation usually takes time and if during that time the process crashes, the data will be lost without proper close.  \n",
    "What close does is that it ensures all the data is written from the buffer to the file properly and flushing is done.  "
   ]
  },
  {
   "cell_type": "code",
   "execution_count": 6,
   "metadata": {},
   "outputs": [],
   "source": [
    "try:\n",
    "    file = open(\"samplefile.txt\")\n",
    "    file.read()\n",
    "finally:\n",
    "    file.close()"
   ]
  },
  {
   "cell_type": "code",
   "execution_count": 7,
   "metadata": {},
   "outputs": [],
   "source": [
    "# More better way of doing this is using with, so that we dont need to use the try-finally block\n",
    "\n",
    "with open(\"samplefile.txt\") as file:\n",
    "    file.read()\n"
   ]
  },
  {
   "cell_type": "code",
   "execution_count": 9,
   "metadata": {},
   "outputs": [
    {
     "name": "stdout",
     "output_type": "stream",
     "text": [
      "['hello there\\n', 'this is sample        \\n', '   text\\n', '   which is\\n', 'formatted\\n', '        in a \\n', '    wierd \\n', '                way         \\n', '                ']\n"
     ]
    }
   ],
   "source": [
    "# with mode\n",
    "\n",
    "with open(\"samplefile.txt\",'r') as file:\n",
    "    x = file.readlines()\n",
    "    print(x)"
   ]
  },
  {
   "cell_type": "code",
   "execution_count": 12,
   "metadata": {},
   "outputs": [
    {
     "name": "stdout",
     "output_type": "stream",
     "text": [
      "hello ther\n"
     ]
    }
   ],
   "source": [
    "# read\n",
    "with open(\"samplefile.txt\",'r') as file:\n",
    "    x = file.read(10) # read first 10 bytes/10 characters\n",
    "    print(x)"
   ]
  },
  {
   "cell_type": "code",
   "execution_count": 16,
   "metadata": {},
   "outputs": [
    {
     "name": "stdout",
     "output_type": "stream",
     "text": [
      "hello there\n",
      "\n",
      "this is sample        \n",
      "\n",
      "   tex\n"
     ]
    }
   ],
   "source": [
    "# readline\n",
    "\n",
    "with open(\"samplefile.txt\",'r') as file:\n",
    "    x = file.readline()\n",
    "    print(x)\n",
    "    x = file.readline() # a file pointer that continues from next line\n",
    "    print(x)\n",
    "    x = file.readline(6) # reads first 6 chars from the line\n",
    "    print(x)"
   ]
  },
  {
   "cell_type": "code",
   "execution_count": 19,
   "metadata": {},
   "outputs": [
    {
     "name": "stdout",
     "output_type": "stream",
     "text": [
      "['hello there\\n', 'this is sample        \\n', '   text\\n', '   which is\\n', 'formatted\\n', '        in a \\n', '    wierd \\n', '                way         \\n', '                ']\n"
     ]
    }
   ],
   "source": [
    "# readlines\n",
    "\n",
    "with open(\"samplefile.txt\",'r') as file:\n",
    "    x = file.readlines() # alternatively list(file) also works\n",
    "    print(x)"
   ]
  },
  {
   "cell_type": "code",
   "execution_count": 25,
   "metadata": {},
   "outputs": [
    {
     "name": "stdout",
     "output_type": "stream",
     "text": [
      "hello there\n",
      " this is sample        \n",
      "    text\n",
      "    which is\n",
      " formatted\n",
      "         in a \n",
      "     wierd \n",
      "                 way         \n",
      "                  "
     ]
    }
   ],
   "source": [
    "# Iterating each line\n",
    "\n",
    "with open(\"samplefile.txt\",'r') as file:\n",
    "    line = file.readline()\n",
    "    while(line != ''): # '' is the EOF character\n",
    "        print(line,end=' ')\n",
    "        line = file.readline()"
   ]
  },
  {
   "cell_type": "code",
   "execution_count": 29,
   "metadata": {},
   "outputs": [
    {
     "name": "stdout",
     "output_type": "stream",
     "text": [
      "hello there\n",
      "this is sample        \n",
      "   text\n",
      "   which is\n",
      "formatted\n",
      "        in a \n",
      "    wierd \n",
      "                way         \n",
      "                "
     ]
    }
   ],
   "source": [
    "with open(\"samplefile.txt\",'r') as file:\n",
    "    for line in file.readlines():\n",
    "        print(line,end='') #we're giving end bcs the line already contains \\n which calls for the nextline"
   ]
  },
  {
   "cell_type": "code",
   "execution_count": 30,
   "metadata": {},
   "outputs": [
    {
     "name": "stdout",
     "output_type": "stream",
     "text": [
      "hello there\n",
      "this is sample        \n",
      "   text\n",
      "   which is\n",
      "formatted\n",
      "        in a \n",
      "    wierd \n",
      "                way         \n",
      "                "
     ]
    }
   ],
   "source": [
    "# Pythonic and memory efficient way\n",
    "with open(\"samplefile.txt\",'r') as file:\n",
    "    for line in file:\n",
    "        print(line,end='')"
   ]
  },
  {
   "cell_type": "code",
   "execution_count": null,
   "metadata": {},
   "outputs": [],
   "source": []
  }
 ],
 "metadata": {
  "kernelspec": {
   "display_name": ".venv",
   "language": "python",
   "name": "python3"
  },
  "language_info": {
   "codemirror_mode": {
    "name": "ipython",
    "version": 3
   },
   "file_extension": ".py",
   "mimetype": "text/x-python",
   "name": "python",
   "nbconvert_exporter": "python",
   "pygments_lexer": "ipython3",
   "version": "3.12.4"
  }
 },
 "nbformat": 4,
 "nbformat_minor": 2
}
