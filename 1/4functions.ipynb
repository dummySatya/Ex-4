{
 "cells": [
  {
   "cell_type": "code",
   "execution_count": 1,
   "metadata": {},
   "outputs": [],
   "source": [
    "def empty_fun():\n",
    "    pass\n",
    "\n",
    "# This is called as a Stub"
   ]
  },
  {
   "cell_type": "code",
   "execution_count": 6,
   "metadata": {},
   "outputs": [
    {
     "name": "stdout",
     "output_type": "stream",
     "text": [
      "satya 20 male\n"
     ]
    }
   ],
   "source": [
    "# Positional Arguments\n",
    "def detail(name,age,gender): #parameters(formal parameters) in func defn\n",
    "    print(f\"{name} {age} {gender}\")\n",
    "\n",
    "detail(\"satya\",20,\"male\") #arguments(actual parameters) are passed"
   ]
  },
  {
   "cell_type": "code",
   "execution_count": 8,
   "metadata": {},
   "outputs": [
    {
     "name": "stdout",
     "output_type": "stream",
     "text": [
      "Satya 20 male\n"
     ]
    }
   ],
   "source": [
    "# Keyword Arguments\n",
    "\n",
    "detail(name=\"Satya\",gender=\"male\",age=20)\n",
    "\n",
    "# Order wont matter here as we are defining the arguments"
   ]
  },
  {
   "cell_type": "code",
   "execution_count": 10,
   "metadata": {},
   "outputs": [
    {
     "name": "stdout",
     "output_type": "stream",
     "text": [
      "Satya 20 male\n",
      "joy 20 female\n",
      "sss 20 male\n",
      "satya 21 male\n",
      "Satya 22 male\n"
     ]
    }
   ],
   "source": [
    "# Default or Optional Parameters\n",
    "\n",
    "def detail(name=\"Satya\",age=20,gender=\"male\"): \n",
    "    print(f\"{name} {age} {gender}\")\n",
    "\n",
    "detail()\n",
    "detail(\"joy\",20,\"female\")\n",
    "detail(\"sss\")\n",
    "detail(\"satya\",21)\n",
    "detail(age=22)"
   ]
  },
  {
   "cell_type": "code",
   "execution_count": 11,
   "metadata": {},
   "outputs": [
    {
     "data": {
      "text/plain": [
       "['hei', 'hellio', 'boiee', 'qqqq']"
      ]
     },
     "execution_count": 11,
     "metadata": {},
     "output_type": "execute_result"
    }
   ],
   "source": [
    "# Mutable default params?\n",
    "\n",
    "def appender(l=[]):\n",
    "    l.append(\"qqqq\")\n",
    "    return l\n",
    "\n",
    "appender([\"hei\",\"hellio\",\"boiee\"])"
   ]
  },
  {
   "cell_type": "code",
   "execution_count": 12,
   "metadata": {},
   "outputs": [
    {
     "data": {
      "text/plain": [
       "['qqqq']"
      ]
     },
     "execution_count": 12,
     "metadata": {},
     "output_type": "execute_result"
    }
   ],
   "source": [
    "appender()"
   ]
  },
  {
   "cell_type": "code",
   "execution_count": 13,
   "metadata": {},
   "outputs": [
    {
     "data": {
      "text/plain": [
       "['qqqq', 'qqqq']"
      ]
     },
     "execution_count": 13,
     "metadata": {},
     "output_type": "execute_result"
    }
   ],
   "source": [
    "appender()"
   ]
  },
  {
   "cell_type": "code",
   "execution_count": 14,
   "metadata": {},
   "outputs": [
    {
     "data": {
      "text/plain": [
       "['qqqq', 'qqqq', 'qqqq']"
      ]
     },
     "execution_count": 14,
     "metadata": {},
     "output_type": "execute_result"
    }
   ],
   "source": [
    "appender()"
   ]
  },
  {
   "cell_type": "code",
   "execution_count": 15,
   "metadata": {},
   "outputs": [],
   "source": [
    "# The default parameters are defined only once, thats why when we call the func with empty params, we keep appending into the same list"
   ]
  },
  {
   "cell_type": "code",
   "execution_count": 17,
   "metadata": {},
   "outputs": [
    {
     "name": "stdout",
     "output_type": "stream",
     "text": [
      "['qqqq']\n",
      "['qqqq']\n",
      "['qqqq']\n"
     ]
    }
   ],
   "source": [
    "# Workaround for this problem\n",
    "\n",
    "def appender(l=None):\n",
    "    if(l == None):\n",
    "        l = []\n",
    "    l.append(\"qqqq\")\n",
    "    return l\n",
    "\n",
    "print(appender())\n",
    "print(appender())\n",
    "print(appender())"
   ]
  },
  {
   "cell_type": "code",
   "execution_count": 20,
   "metadata": {},
   "outputs": [
    {
     "name": "stdout",
     "output_type": "stream",
     "text": [
      "9771944\n",
      "9772104\n"
     ]
    }
   ],
   "source": [
    "x = 5\n",
    "print(id(x))\n",
    "\n",
    "x = 10\n",
    "print(id(x))\n",
    "\n",
    "# both are diff \n",
    "# The first statement causes x to point to an object whose value is 5.\n",
    "# The next statement reassigns x as a new reference to a different object whose value is 10. Stated another way, the second assignment rebinds x to a different object with value 10.\n"
   ]
  },
  {
   "cell_type": "code",
   "execution_count": 21,
   "metadata": {},
   "outputs": [],
   "source": [
    "# Pass by value or Pass by reference?\n",
    "# Python is some sort of middle btw both\n",
    "# For python, its Pass by assignment\n",
    "# Passing an immutable object, like an int, str, tuple, or frozenset, to a Python function acts like pass-by-value. The function can’t modify the object in the calling environment.\n",
    "\n",
    "# Passing a mutable object such as a list, dict, or set acts somewhat—but not exactly—like pass-by-reference. The function can’t reassign the object wholesale, but it can change items in place within the object, and these changes will be reflected in the calling environment."
   ]
  },
  {
   "cell_type": "markdown",
   "metadata": {},
   "source": [
    "##### Pass by value or Pass by reference?\n",
    "Python is some sort of middle btw both. For python, its Pass by assignment.  \n",
    "**Passing an immutable object**, like an int, str, or tuple, to a Python function acts like pass-by-value. The function can’t modify the object in the calling environment.  \n",
    "**Passing a mutable object** such as a list, dict, or set acts somewhat—but not exactly—like pass-by-reference. The function can’t reassign the object wholesale, but it can change items in place within the object, and these changes will be reflected in the calling environment."
   ]
  },
  {
   "cell_type": "code",
   "execution_count": 24,
   "metadata": {},
   "outputs": [
    {
     "name": "stdout",
     "output_type": "stream",
     "text": [
      "ID before func call: 9771944\n",
      "ID before change: 9771944\n",
      "ID after change: 9772104\n",
      "ID after func call: 9771944\n"
     ]
    }
   ],
   "source": [
    "# passing an immutable obj\n",
    "\n",
    "def changer(x):\n",
    "    print(f\"ID before change: {id(x)}\")\n",
    "    x = 10\n",
    "    print(f\"ID after change: {id(x)}\")\n",
    "\n",
    "x = 5\n",
    "print(f\"ID before func call: {id(x)}\")\n",
    "changer(x)\n",
    "print(f\"ID after func call: {id(x)}\")\n",
    "\n",
    "# Here we can see that when x value changes, it rebinds to a new object"
   ]
  },
  {
   "cell_type": "code",
   "execution_count": 27,
   "metadata": {},
   "outputs": [
    {
     "name": "stdout",
     "output_type": "stream",
     "text": [
      "ID before func call: 131549353683136\n",
      "ID before change: 131549353683136\n",
      "ID after change: 131549353683136\n",
      "ID after func call: 131549353683136\n"
     ]
    },
    {
     "data": {
      "text/plain": [
       "[10, 2, 3]"
      ]
     },
     "execution_count": 27,
     "metadata": {},
     "output_type": "execute_result"
    }
   ],
   "source": [
    "# passing a mutable obj\n",
    "\n",
    "def changer(x):\n",
    "    print(f\"ID before change: {id(x)}\")\n",
    "    x[0] = 10\n",
    "    print(f\"ID after change: {id(x)}\")\n",
    "\n",
    "x = [1, 2, 3]\n",
    "print(f\"ID before func call: {id(x)}\")\n",
    "changer(x)\n",
    "print(f\"ID after func call: {id(x)}\")\n",
    "x\n",
    "\n",
    "# Here we can see that when x value changes and no new object were made"
   ]
  },
  {
   "cell_type": "code",
   "execution_count": null,
   "metadata": {},
   "outputs": [],
   "source": []
  }
 ],
 "metadata": {
  "kernelspec": {
   "display_name": ".venv",
   "language": "python",
   "name": "python3"
  },
  "language_info": {
   "codemirror_mode": {
    "name": "ipython",
    "version": 3
   },
   "file_extension": ".py",
   "mimetype": "text/x-python",
   "name": "python",
   "nbconvert_exporter": "python",
   "pygments_lexer": "ipython3",
   "version": "3.12.4"
  }
 },
 "nbformat": 4,
 "nbformat_minor": 2
}
