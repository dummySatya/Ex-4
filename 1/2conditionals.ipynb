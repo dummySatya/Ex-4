{
 "cells": [
  {
   "cell_type": "code",
   "execution_count": 1,
   "metadata": {},
   "outputs": [
    {
     "name": "stdout",
     "output_type": "stream",
     "text": [
      "Hello\n"
     ]
    }
   ],
   "source": [
    "if True:\n",
    "    print(\"Hello\")"
   ]
  },
  {
   "cell_type": "code",
   "execution_count": 2,
   "metadata": {},
   "outputs": [
    {
     "name": "stdout",
     "output_type": "stream",
     "text": [
      "All numbers except 0 are true\n"
     ]
    }
   ],
   "source": [
    "if 3:\n",
    "    print(\"All numbers except 0 are true\")"
   ]
  },
  {
   "cell_type": "code",
   "execution_count": 3,
   "metadata": {},
   "outputs": [
    {
     "name": "stdout",
     "output_type": "stream",
     "text": [
      "Hiii\n"
     ]
    }
   ],
   "source": [
    "if 0:\n",
    "    print(\"Never saw me!!\")\n",
    "else:\n",
    "    print(\"Hiii\")"
   ]
  },
  {
   "cell_type": "code",
   "execution_count": 6,
   "metadata": {},
   "outputs": [
    {
     "name": "stdout",
     "output_type": "stream",
     "text": [
      "Hello Satya\n",
      "How are you\n"
     ]
    }
   ],
   "source": [
    "name = \"Satya\"\n",
    "\n",
    "if name == \"Satya\" : print(\"Hello \",end=\"\"); print(name) ; print(\"How are you\")"
   ]
  },
  {
   "cell_type": "code",
   "execution_count": 8,
   "metadata": {},
   "outputs": [
    {
     "name": "stdout",
     "output_type": "stream",
     "text": [
      "Lets goto the beach\n"
     ]
    }
   ],
   "source": [
    "raining = False\n",
    "\n",
    "print(\"Lets goto the\",\"beach\" if not raining else \"restaurant\")"
   ]
  },
  {
   "cell_type": "code",
   "execution_count": 9,
   "metadata": {},
   "outputs": [
    {
     "name": "stdout",
     "output_type": "stream",
     "text": [
      "Lets goto the restaurant\n"
     ]
    }
   ],
   "source": [
    "raining = True\n",
    "\n",
    "print(\"Lets goto the\",\"beach\" if not raining else \"restaurant\")"
   ]
  },
  {
   "cell_type": "code",
   "execution_count": 11,
   "metadata": {},
   "outputs": [
    {
     "name": "stdout",
     "output_type": "stream",
     "text": [
      "h\n",
      "Hello\n"
     ]
    }
   ],
   "source": [
    "# pass keyword\n",
    "\n",
    "if(True):\n",
    "    # some unimplemented logic, but for now should just pass on, use pass keyword, use for empty code blocks\n",
    "    pass\n",
    "\n",
    "print(\"Hello\")"
   ]
  },
  {
   "cell_type": "code",
   "execution_count": null,
   "metadata": {},
   "outputs": [],
   "source": []
  }
 ],
 "metadata": {
  "kernelspec": {
   "display_name": ".venv",
   "language": "python",
   "name": "python3"
  },
  "language_info": {
   "codemirror_mode": {
    "name": "ipython",
    "version": 3
   },
   "file_extension": ".py",
   "mimetype": "text/x-python",
   "name": "python",
   "nbconvert_exporter": "python",
   "pygments_lexer": "ipython3",
   "version": "3.12.4"
  }
 },
 "nbformat": 4,
 "nbformat_minor": 2
}
