{
 "cells": [
  {
   "cell_type": "code",
   "execution_count": 3,
   "metadata": {},
   "outputs": [],
   "source": [
    "class Dog:\n",
    "    # Class Attribute: Same for all class instances\n",
    "    species = \"Canis\"\n",
    "    def __init__(self,name,age): #we can use any other name than self too, its just a strong Python convention atp\n",
    "        # Instance Attributes: Different for diff class instances\n",
    "        self.name = name\n",
    "        self.age = age"
   ]
  },
  {
   "cell_type": "code",
   "execution_count": 4,
   "metadata": {},
   "outputs": [
    {
     "data": {
      "text/plain": [
       "(<__main__.Dog at 0x7d2cbcfe2c30>, <__main__.Dog at 0x7d2cbcfe2ab0>)"
      ]
     },
     "execution_count": 4,
     "metadata": {},
     "output_type": "execute_result"
    }
   ],
   "source": [
    "# Instanciating a Class\n",
    "\n",
    "tommy = Dog(\"Tommy\",6)\n",
    "jonny = Dog(\"Jonny\",8)\n",
    "\n",
    "tommy,jonny"
   ]
  },
  {
   "cell_type": "markdown",
   "metadata": {},
   "source": [
    "#### How internally things work?  \n",
    "Python's instantiation process involves 2 steps:  \n",
    "1. Instance Creation\n",
    "2. Instance Initialization \n",
    "   \n",
    "Python classes have a special method called .\\_\\_new\\_\\_(), which is responsible for creating and returning a new empty object. Then another special method, .\\_\\_init\\_\\_(), takes the resulting object, along with the class constructor’s arguments.  \n",
    "Python’s instantiation process starts with a call to the class constructor, which triggers the instance creator, .\\_\\_new\\_\\_(), to create a new empty object. The process continues with the instance initializer, .\\_\\_init\\_\\_(), which takes the constructor’s arguments to initialize the newly created object."
   ]
  },
  {
   "cell_type": "code",
   "execution_count": 25,
   "metadata": {},
   "outputs": [],
   "source": [
    "# How internally things work\n",
    "\n",
    "class Dog:\n",
    "    specie = \"Canis\"\n",
    "    def __new__(cls,*args,**kwargs):\n",
    "        print(\"Create Instance of Dog\")\n",
    "        return super().__new__(cls)\n",
    "    \n",
    "    def __init__(self,name,age):\n",
    "        print(\"Initialization of Dog\")\n",
    "        self.name = name\n",
    "        self.age = age\n",
    "    \n",
    "    # This returned when object is called for display (representation), if not defined then memory addr of the object is printed\n",
    "    # __repr__ vs __str__\n",
    "    # __repr__ = Use for programmers\n",
    "    # __str__ = Use for users\n",
    "    def __repr__(self) -> str:\n",
    "        return f\"Dog: Name-{self.name},Age- {self.age}\""
   ]
  },
  {
   "cell_type": "code",
   "execution_count": 26,
   "metadata": {},
   "outputs": [
    {
     "name": "stdout",
     "output_type": "stream",
     "text": [
      "Create Instance of Dog\n",
      "Initialization of Dog\n"
     ]
    },
    {
     "data": {
      "text/plain": [
       "Dog: Name-doggo,Age- 12"
      ]
     },
     "execution_count": 26,
     "metadata": {},
     "output_type": "execute_result"
    }
   ],
   "source": [
    "doggo = Dog(\"doggo\",12)\n",
    "doggo"
   ]
  },
  {
   "cell_type": "code",
   "execution_count": 27,
   "metadata": {},
   "outputs": [
    {
     "data": {
      "text/plain": [
       "'doggo'"
      ]
     },
     "execution_count": 27,
     "metadata": {},
     "output_type": "execute_result"
    }
   ],
   "source": [
    "doggo.name"
   ]
  },
  {
   "cell_type": "code",
   "execution_count": 28,
   "metadata": {},
   "outputs": [
    {
     "data": {
      "text/plain": [
       "12"
      ]
     },
     "execution_count": 28,
     "metadata": {},
     "output_type": "execute_result"
    }
   ],
   "source": [
    "doggo.age"
   ]
  },
  {
   "cell_type": "code",
   "execution_count": 29,
   "metadata": {},
   "outputs": [
    {
     "data": {
      "text/plain": [
       "'Canis'"
      ]
     },
     "execution_count": 29,
     "metadata": {},
     "output_type": "execute_result"
    }
   ],
   "source": [
    "doggo.specie"
   ]
  },
  {
   "cell_type": "code",
   "execution_count": 30,
   "metadata": {},
   "outputs": [
    {
     "data": {
      "text/plain": [
       "'Canis'"
      ]
     },
     "execution_count": 30,
     "metadata": {},
     "output_type": "execute_result"
    }
   ],
   "source": [
    "Dog.specie"
   ]
  },
  {
   "cell_type": "code",
   "execution_count": 31,
   "metadata": {},
   "outputs": [],
   "source": [
    "doggo.specie = 'Doggo specie'"
   ]
  },
  {
   "cell_type": "code",
   "execution_count": 32,
   "metadata": {},
   "outputs": [
    {
     "data": {
      "text/plain": [
       "'Doggo specie'"
      ]
     },
     "execution_count": 32,
     "metadata": {},
     "output_type": "execute_result"
    }
   ],
   "source": [
    "doggo.specie"
   ]
  },
  {
   "cell_type": "code",
   "execution_count": 33,
   "metadata": {},
   "outputs": [
    {
     "data": {
      "text/plain": [
       "'Canis'"
      ]
     },
     "execution_count": 33,
     "metadata": {},
     "output_type": "execute_result"
    }
   ],
   "source": [
    "Dog.specie"
   ]
  },
  {
   "cell_type": "code",
   "execution_count": 34,
   "metadata": {},
   "outputs": [],
   "source": [
    "Dog.specie = 'Doggo Godfather'"
   ]
  },
  {
   "cell_type": "code",
   "execution_count": 36,
   "metadata": {},
   "outputs": [
    {
     "data": {
      "text/plain": [
       "'Doggo Godfather'"
      ]
     },
     "execution_count": 36,
     "metadata": {},
     "output_type": "execute_result"
    }
   ],
   "source": [
    "Dog.specie"
   ]
  },
  {
   "cell_type": "code",
   "execution_count": 42,
   "metadata": {},
   "outputs": [
    {
     "name": "stdout",
     "output_type": "stream",
     "text": [
      "<__main__.Cat object at 0x7d2cbc4ba780>\n"
     ]
    },
    {
     "data": {
      "text/plain": [
       "5"
      ]
     },
     "execution_count": 42,
     "metadata": {},
     "output_type": "execute_result"
    }
   ],
   "source": [
    "# Instance methods\n",
    "\n",
    "class Cat:\n",
    "    def __init__(self,name,meowCount):\n",
    "        self.name = name\n",
    "        self.meows = meowCount\n",
    "    \n",
    "    def countmeows(self):\n",
    "        return self.meows\n",
    "\n",
    "tom = Cat(\"tom\",5)\n",
    "print(tom)\n",
    "tom.countmeows() #instance method using the dot operator"
   ]
  },
  {
   "cell_type": "code",
   "execution_count": 43,
   "metadata": {},
   "outputs": [
    {
     "name": "stdout",
     "output_type": "stream",
     "text": [
      "tom did 5 meows !!\n"
     ]
    },
    {
     "data": {
      "text/plain": [
       "5"
      ]
     },
     "execution_count": 43,
     "metadata": {},
     "output_type": "execute_result"
    }
   ],
   "source": [
    "# When we print tom, we get a addr method, to avoid this we can use __str__ dunder method\n",
    "\n",
    "class Cat:\n",
    "    def __init__(self,name,meowCount):\n",
    "        self.name = name\n",
    "        self.meows = meowCount\n",
    "    \n",
    "    def __str__(self) -> str:\n",
    "        return f\"{self.name} did {self.meows} meows !!\"\n",
    "\n",
    "    def countmeows(self):\n",
    "        return self.meows\n",
    "\n",
    "tom = Cat(\"tom\",5)\n",
    "print(tom)\n",
    "tom.countmeows()"
   ]
  },
  {
   "cell_type": "code",
   "execution_count": null,
   "metadata": {},
   "outputs": [],
   "source": []
  }
 ],
 "metadata": {
  "kernelspec": {
   "display_name": ".venv",
   "language": "python",
   "name": "python3"
  },
  "language_info": {
   "codemirror_mode": {
    "name": "ipython",
    "version": 3
   },
   "file_extension": ".py",
   "mimetype": "text/x-python",
   "name": "python",
   "nbconvert_exporter": "python",
   "pygments_lexer": "ipython3",
   "version": "3.12.4"
  }
 },
 "nbformat": 4,
 "nbformat_minor": 2
}
