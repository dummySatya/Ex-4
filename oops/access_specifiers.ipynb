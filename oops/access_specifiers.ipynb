{
 "cells": [
  {
   "cell_type": "markdown",
   "metadata": {},
   "source": [
    "Classes use PascalCase"
   ]
  },
  {
   "cell_type": "markdown",
   "metadata": {},
   "source": [
    "Python doesn’t distinguish between private, protected, and public attributes like Java and other languages do. In Python, all attributes are accessible in one way or another.\n",
    "\n",
    "However, Python has a well-established naming convention that you should use to communicate that an attribute or method isn’t intended for use from outside its containing class or object. The naming convention consists of adding a leading underscore to the member’s name"
   ]
  },
  {
   "cell_type": "markdown",
   "metadata": {},
   "source": [
    "Public \tUse the normal naming pattern. \t`radius, calculate_area()`  \n",
    "  \n",
    "Non-public \tInclude a leading underscore in names. \t`_radius, _calculate_area()`"
   ]
  },
  {
   "cell_type": "markdown",
   "metadata": {},
   "source": [
    "Non-public members exist only to support the internal implementation of a given class and the owner of the class may remove them at any time, so you shouldn’t rely on such attributes and methods. The existence of these members depends on how the class is implemented. So, you shouldn’t use them directly in client code. If you do, then your code could break in the future."
   ]
  },
  {
   "cell_type": "markdown",
   "metadata": {},
   "source": [
    "Another naming convention is Name Mangling  \n",
    "Name mangling is an automatic name transformation that prepends the class’s name to the member’s name, like in _ClassName__attribute or _ClassName__method. This transformation results in name hiding. In other words, mangled names aren’t available for direct access and aren’t part of a class’s public API."
   ]
  },
  {
   "cell_type": "code",
   "execution_count": 3,
   "metadata": {},
   "outputs": [
    {
     "data": {
      "text/plain": [
       "{'name': 'tom', 'meows': 5}"
      ]
     },
     "execution_count": 3,
     "metadata": {},
     "output_type": "execute_result"
    }
   ],
   "source": [
    "class Cat:\n",
    "    def __init__(self,name,meowCount):\n",
    "        self.name = name\n",
    "        self.meows = meowCount\n",
    "    \n",
    "    def countmeows(self):\n",
    "        return self.meows\n",
    "\n",
    "tom = Cat(\"tom\",5)\n",
    "vars(tom)"
   ]
  },
  {
   "cell_type": "code",
   "execution_count": 4,
   "metadata": {},
   "outputs": [
    {
     "data": {
      "text/plain": [
       "mappingproxy({'__module__': '__main__',\n",
       "              '__init__': <function __main__.Cat.__init__(self, name, meowCount)>,\n",
       "              'countmeows': <function __main__.Cat.countmeows(self)>,\n",
       "              '__dict__': <attribute '__dict__' of 'Cat' objects>,\n",
       "              '__weakref__': <attribute '__weakref__' of 'Cat' objects>,\n",
       "              '__doc__': None})"
      ]
     },
     "execution_count": 4,
     "metadata": {},
     "output_type": "execute_result"
    }
   ],
   "source": [
    "vars(Cat)"
   ]
  },
  {
   "cell_type": "markdown",
   "metadata": {},
   "source": [
    "#### Access Modifiers  \n",
    "_ : Protected => Can be accessed within same class and derived classes  \n",
    "__ : Private => Can be accessed only within a class  \n",
    "  \n",
    "__Note__: Python doesnt provide any actual access modifier and the value can be accessed"
   ]
  },
  {
   "cell_type": "code",
   "execution_count": 33,
   "metadata": {},
   "outputs": [],
   "source": [
    "class AccessModifiers:\n",
    "    def __init__(self,pub,pro,pri):\n",
    "        self.public = pub\n",
    "        self._protected = pro\n",
    "        self.__private = pri\n",
    "    \n",
    "    def access(self):\n",
    "        print(\"Within my class: \")\n",
    "        print(f\"I can access {self.public}\")\n",
    "        print(f\"I can access {self._protected}\")\n",
    "        print(f\"I can access {self.__private}\")\n",
    "    \n",
    "    def _protectedMethod(self):\n",
    "        print(\"I am a Protected Method\")\n",
    "\n",
    "    def __privateMethod(self):\n",
    "        print(\"I am a Private Method\")\n",
    "\n",
    "class DerivedAM(AccessModifiers):\n",
    "    def access(self):\n",
    "        print(f\"I can access {self.public}, {self._protected} and {self.__private}\")\n"
   ]
  },
  {
   "cell_type": "code",
   "execution_count": 34,
   "metadata": {},
   "outputs": [],
   "source": [
    "obj = AccessModifiers(\"public\",\"protected\",\"private\")\n",
    "childObj = DerivedAM(\"public\",\"protected\",\"private\")"
   ]
  },
  {
   "cell_type": "code",
   "execution_count": 35,
   "metadata": {},
   "outputs": [
    {
     "name": "stdout",
     "output_type": "stream",
     "text": [
      "Within my class: \n",
      "I can access public\n",
      "I can access protected\n",
      "I can access private\n"
     ]
    }
   ],
   "source": [
    "obj.access()"
   ]
  },
  {
   "cell_type": "code",
   "execution_count": 36,
   "metadata": {},
   "outputs": [
    {
     "ename": "AttributeError",
     "evalue": "'AccessModifiers' object has no attribute '__private'",
     "output_type": "error",
     "traceback": [
      "\u001b[0;31m---------------------------------------------------------------------------\u001b[0m",
      "\u001b[0;31mAttributeError\u001b[0m                            Traceback (most recent call last)",
      "Cell \u001b[0;32mIn[36], line 1\u001b[0m\n\u001b[0;32m----> 1\u001b[0m \u001b[43mobj\u001b[49m\u001b[38;5;241;43m.\u001b[39;49m\u001b[43m__private\u001b[49m\n",
      "\u001b[0;31mAttributeError\u001b[0m: 'AccessModifiers' object has no attribute '__private'"
     ]
    }
   ],
   "source": [
    "obj.__private"
   ]
  },
  {
   "cell_type": "code",
   "execution_count": 37,
   "metadata": {},
   "outputs": [
    {
     "name": "stdout",
     "output_type": "stream",
     "text": [
      "I am a Protected Method\n"
     ]
    }
   ],
   "source": [
    "obj._protectedMethod()"
   ]
  },
  {
   "cell_type": "code",
   "execution_count": 38,
   "metadata": {},
   "outputs": [
    {
     "ename": "AttributeError",
     "evalue": "'AccessModifiers' object has no attribute '__privateMethod'",
     "output_type": "error",
     "traceback": [
      "\u001b[0;31m---------------------------------------------------------------------------\u001b[0m",
      "\u001b[0;31mAttributeError\u001b[0m                            Traceback (most recent call last)",
      "Cell \u001b[0;32mIn[38], line 1\u001b[0m\n\u001b[0;32m----> 1\u001b[0m \u001b[43mobj\u001b[49m\u001b[38;5;241;43m.\u001b[39;49m\u001b[43m__privateMethod\u001b[49m()\n",
      "\u001b[0;31mAttributeError\u001b[0m: 'AccessModifiers' object has no attribute '__privateMethod'"
     ]
    }
   ],
   "source": [
    "obj.__privateMethod()"
   ]
  },
  {
   "cell_type": "code",
   "execution_count": 39,
   "metadata": {},
   "outputs": [
    {
     "data": {
      "text/plain": [
       "{'public': 'public',\n",
       " '_protected': 'protected',\n",
       " '_AccessModifiers__private': 'private'}"
      ]
     },
     "execution_count": 39,
     "metadata": {},
     "output_type": "execute_result"
    }
   ],
   "source": [
    "vars(obj)"
   ]
  },
  {
   "cell_type": "code",
   "execution_count": 40,
   "metadata": {},
   "outputs": [
    {
     "name": "stdout",
     "output_type": "stream",
     "text": [
      "I am a Private Method\n"
     ]
    }
   ],
   "source": [
    "obj._AccessModifiers__privateMethod()"
   ]
  },
  {
   "cell_type": "code",
   "execution_count": 41,
   "metadata": {},
   "outputs": [
    {
     "data": {
      "text/plain": [
       "'private'"
      ]
     },
     "execution_count": 41,
     "metadata": {},
     "output_type": "execute_result"
    }
   ],
   "source": [
    "obj._AccessModifiers__private"
   ]
  },
  {
   "cell_type": "markdown",
   "metadata": {},
   "source": [
    "As we can see above that we can access the private attributes and methods from outside too by just adding _ followed by class name and _ with the attribute or method"
   ]
  },
  {
   "cell_type": "markdown",
   "metadata": {},
   "source": [
    "So the _ and __ is just a convention followed and python uses Name Mangling to add on the class name in front of attr and methods so that its not directly accessible"
   ]
  },
  {
   "cell_type": "code",
   "execution_count": null,
   "metadata": {},
   "outputs": [],
   "source": []
  }
 ],
 "metadata": {
  "kernelspec": {
   "display_name": ".venv",
   "language": "python",
   "name": "python3"
  },
  "language_info": {
   "codemirror_mode": {
    "name": "ipython",
    "version": 3
   },
   "file_extension": ".py",
   "mimetype": "text/x-python",
   "name": "python",
   "nbconvert_exporter": "python",
   "pygments_lexer": "ipython3",
   "version": "3.12.4"
  }
 },
 "nbformat": 4,
 "nbformat_minor": 2
}
