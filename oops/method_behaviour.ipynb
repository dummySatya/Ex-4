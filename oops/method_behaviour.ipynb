{
 "cells": [
  {
   "cell_type": "markdown",
   "metadata": {},
   "source": [
    "In Python class, we can define three types of method:  \n",
    "1. Instance Methods - Takes the current instance, self, as first argument\n",
    "2. Class Methods - Takes the current class, cls, as first argument\n",
    "3. Static Methods - Takes neither class nor instance as argument"
   ]
  },
  {
   "cell_type": "code",
   "execution_count": null,
   "metadata": {},
   "outputs": [],
   "source": []
  }
 ],
 "metadata": {
  "language_info": {
   "name": "python"
  }
 },
 "nbformat": 4,
 "nbformat_minor": 2
}
