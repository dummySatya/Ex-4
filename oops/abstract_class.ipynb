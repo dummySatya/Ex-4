{
 "cells": [
  {
   "cell_type": "code",
   "execution_count": 45,
   "metadata": {},
   "outputs": [],
   "source": [
    "from abc import ABC,abstractmethod"
   ]
  },
  {
   "cell_type": "code",
   "execution_count": 46,
   "metadata": {},
   "outputs": [],
   "source": [
    "class Cartoon(ABC):\n",
    "    def __init__(self, name, genre):\n",
    "        self.name = name\n",
    "        self.genre = genre\n",
    "    \n",
    "    @abstractmethod\n",
    "    def display(self):\n",
    "        ..."
   ]
  },
  {
   "cell_type": "markdown",
   "metadata": {},
   "source": [
    "Note: `...` is called Ellipsis, which can be used similar to `pass` statement"
   ]
  },
  {
   "cell_type": "code",
   "execution_count": 47,
   "metadata": {},
   "outputs": [
    {
     "ename": "TypeError",
     "evalue": "Can't instantiate abstract class Cartoon without an implementation for abstract method 'display'",
     "output_type": "error",
     "traceback": [
      "\u001b[0;31m---------------------------------------------------------------------------\u001b[0m",
      "\u001b[0;31mTypeError\u001b[0m                                 Traceback (most recent call last)",
      "Cell \u001b[0;32mIn[47], line 1\u001b[0m\n\u001b[0;32m----> 1\u001b[0m obj \u001b[38;5;241m=\u001b[39m \u001b[43mCartoon\u001b[49m\u001b[43m(\u001b[49m\u001b[38;5;124;43m\"\u001b[39;49m\u001b[38;5;124;43mtom\u001b[39;49m\u001b[38;5;124;43m\"\u001b[39;49m\u001b[43m,\u001b[49m\u001b[38;5;124;43m\"\u001b[39;49m\u001b[38;5;124;43mcomedy\u001b[39;49m\u001b[38;5;124;43m\"\u001b[39;49m\u001b[43m)\u001b[49m\n",
      "\u001b[0;31mTypeError\u001b[0m: Can't instantiate abstract class Cartoon without an implementation for abstract method 'display'"
     ]
    }
   ],
   "source": [
    "obj = Cartoon(\"tom\",\"comedy\")"
   ]
  },
  {
   "cell_type": "markdown",
   "metadata": {},
   "source": [
    "We can see that we cannot instantiate an abstract class without an implementation.  \n",
    "The priority of abstractmethod is higher than the \\_\\_init\\_\\_, hence first itself it throws error"
   ]
  },
  {
   "cell_type": "code",
   "execution_count": 48,
   "metadata": {},
   "outputs": [],
   "source": [
    "class TomAndJerry(Cartoon):\n",
    "    def __init__(self, name, genre):\n",
    "        super().__init__(name, genre)\n",
    "    \n",
    "    def display(self):\n",
    "        print(f\"We're of fun type\")"
   ]
  },
  {
   "cell_type": "code",
   "execution_count": 49,
   "metadata": {},
   "outputs": [],
   "source": [
    "tomjerry = TomAndJerry(\"tom\",\"comedy\")"
   ]
  },
  {
   "cell_type": "code",
   "execution_count": 50,
   "metadata": {},
   "outputs": [],
   "source": [
    "# Implementing an abstract class, but method not being implemented gives error when someone tries to instanciate object\n",
    "class Doraemon(Cartoon):\n",
    "    def __init__(self, name, genre):\n",
    "        super().__init__(name, genre)\n",
    "    \n",
    "    # def display(self):\n",
    "    #     print(f\"We're of futuristic type\")"
   ]
  },
  {
   "cell_type": "code",
   "execution_count": 51,
   "metadata": {},
   "outputs": [
    {
     "ename": "TypeError",
     "evalue": "Can't instantiate abstract class Doraemon without an implementation for abstract method 'display'",
     "output_type": "error",
     "traceback": [
      "\u001b[0;31m---------------------------------------------------------------------------\u001b[0m",
      "\u001b[0;31mTypeError\u001b[0m                                 Traceback (most recent call last)",
      "Cell \u001b[0;32mIn[51], line 1\u001b[0m\n\u001b[0;32m----> 1\u001b[0m dora \u001b[38;5;241m=\u001b[39m \u001b[43mDoraemon\u001b[49m\u001b[43m(\u001b[49m\u001b[38;5;124;43m\"\u001b[39;49m\u001b[38;5;124;43mdoraemon\u001b[39;49m\u001b[38;5;124;43m\"\u001b[39;49m\u001b[43m,\u001b[49m\u001b[38;5;124;43m\"\u001b[39;49m\u001b[38;5;124;43mexciting\u001b[39;49m\u001b[38;5;124;43m\"\u001b[39;49m\u001b[43m)\u001b[49m\n",
      "\u001b[0;31mTypeError\u001b[0m: Can't instantiate abstract class Doraemon without an implementation for abstract method 'display'"
     ]
    }
   ],
   "source": [
    "dora = Doraemon(\"doraemon\",\"exciting\")"
   ]
  },
  {
   "cell_type": "code",
   "execution_count": 52,
   "metadata": {},
   "outputs": [
    {
     "name": "stdout",
     "output_type": "stream",
     "text": [
      "We're of fun type\n"
     ]
    }
   ],
   "source": [
    "tomjerry.display()"
   ]
  },
  {
   "cell_type": "code",
   "execution_count": 53,
   "metadata": {},
   "outputs": [],
   "source": [
    "# Why not just use normal class?\n",
    "\n",
    "class Cartoon():\n",
    "    def __init__(self, name, genre):\n",
    "        self.name = name\n",
    "        self.genre = genre\n",
    "    \n",
    "    def display(self):\n",
    "        ..."
   ]
  },
  {
   "cell_type": "code",
   "execution_count": 54,
   "metadata": {},
   "outputs": [],
   "source": [
    "class TomAndJerry(Cartoon):\n",
    "    def __init__(self, name, genre):\n",
    "        super().__init__(name, genre)\n",
    "    \n",
    "    def display(self):\n",
    "        print(f\"We're of fun type\")"
   ]
  },
  {
   "cell_type": "code",
   "execution_count": 55,
   "metadata": {},
   "outputs": [
    {
     "name": "stdout",
     "output_type": "stream",
     "text": [
      "We're of fun type\n"
     ]
    }
   ],
   "source": [
    "tom = TomAndJerry(\"tom\",\"comedy\")\n",
    "tom.display()"
   ]
  },
  {
   "cell_type": "code",
   "execution_count": 56,
   "metadata": {},
   "outputs": [],
   "source": [
    "# Now lets try without implementing the display\n",
    "class Doraemon(Cartoon):\n",
    "    def __init__(self, name, genre):\n",
    "        super().__init__(name, genre)\n",
    "    \n",
    "    # def display(self):\n",
    "    #     print(f\"We're of futuristic type\")"
   ]
  },
  {
   "cell_type": "code",
   "execution_count": 57,
   "metadata": {},
   "outputs": [],
   "source": [
    "dora = Doraemon(\"doraemon\",\"exciting\")\n",
    "dora.display()"
   ]
  },
  {
   "cell_type": "markdown",
   "metadata": {},
   "source": [
    "As we can see, the diff btw Abstract Class(with abstractmethod) and Normal Class(with method overidding) is that abstract class enforces to implement the method "
   ]
  },
  {
   "cell_type": "markdown",
   "metadata": {},
   "source": [
    "### collections.abc Module\n",
    "\n",
    "The collection.abc module provides a set of ABCs for common collection types in Python, such as lists, dictionaries, sets, and more.  \n",
    "These ABCs can be used as a type of hint to indicate that a particular parameter or return value is expected to be a collection of a specific type.  \n",
    "Additionally, they can be used to check if a particular object is an instance of a collection type.  \n",
    "The collections.abc module promotes consistent behavior among container types.  \n",
    "It allows you to create custom container types that behave like built-in Python collections by implementing the required methods."
   ]
  },
  {
   "cell_type": "markdown",
   "metadata": {},
   "source": [
    "#### Containers\n",
    "They're used in any context where you need to check if an item exists in a collection. For instance, checking if a user ID exists in a list of active users or if a certain configuration setting is enabled in a set of features."
   ]
  },
  {
   "cell_type": "code",
   "execution_count": 3,
   "metadata": {},
   "outputs": [
    {
     "name": "stdout",
     "output_type": "stream",
     "text": [
      "True\n",
      "False\n"
     ]
    }
   ],
   "source": [
    "# To implement the __contains__ methods to use membership operator over the object\n",
    "\n",
    "from collections.abc import Container\n",
    "\n",
    "class MyContainer(Container):\n",
    "    def __init__(self, items):\n",
    "        self.items = items\n",
    "    \n",
    "    def __contains__(self, x: object) -> bool:\n",
    "        return x in self.items\n",
    "\n",
    "obj = MyContainer([1,2,3,4])\n",
    "print(1 in obj)\n",
    "print(5 in obj)"
   ]
  },
  {
   "cell_type": "markdown",
   "metadata": {},
   "source": [
    "#### Iterable\n",
    "Loops, comprehensions, and many functions rely on objects being iterable. For example, processing rows in a CSV file, iterating through records in a database query result"
   ]
  },
  {
   "cell_type": "code",
   "execution_count": 2,
   "metadata": {},
   "outputs": [
    {
     "name": "stdout",
     "output_type": "stream",
     "text": [
      "1\n",
      "3\n",
      "4\n",
      "5\n"
     ]
    }
   ],
   "source": [
    "# To implement the __iter__ method to iterate over the container elements\n",
    "\n",
    "from collections.abc import Iterable\n",
    "from typing import Iterator\n",
    "\n",
    "class MyIterable(Iterable):\n",
    "    def __init__(self, items) -> None:\n",
    "        self.items = items\n",
    "    \n",
    "    def __iter__(self) -> Iterator:\n",
    "        return iter(self.items)\n",
    "\n",
    "obj = MyIterable([1,3,4,5])\n",
    "for item in obj:\n",
    "    print(item)"
   ]
  },
  {
   "cell_type": "code",
   "execution_count": 3,
   "metadata": {},
   "outputs": [
    {
     "ename": "TypeError",
     "evalue": "object of type 'MyIterable' has no len()",
     "output_type": "error",
     "traceback": [
      "\u001b[0;31m---------------------------------------------------------------------------\u001b[0m",
      "\u001b[0;31mTypeError\u001b[0m                                 Traceback (most recent call last)",
      "Cell \u001b[0;32mIn[3], line 2\u001b[0m\n\u001b[1;32m      1\u001b[0m \u001b[38;5;66;03m# Suppose we want to find the length of out obj\u001b[39;00m\n\u001b[0;32m----> 2\u001b[0m \u001b[38;5;28;43mlen\u001b[39;49m\u001b[43m(\u001b[49m\u001b[43mobj\u001b[49m\u001b[43m)\u001b[49m\n",
      "\u001b[0;31mTypeError\u001b[0m: object of type 'MyIterable' has no len()"
     ]
    }
   ],
   "source": [
    "# Suppose we want to find the length of out obj\n",
    "len(obj)"
   ]
  },
  {
   "cell_type": "markdown",
   "metadata": {},
   "source": [
    "#### Sized\n",
    "Any situation where you need to know the size of a collection would use a Sized interface. Examples include checking if a shopping cart is empty, determining the number of results returned from a search query, or validating that a password meets a minimum length requirement."
   ]
  },
  {
   "cell_type": "code",
   "execution_count": 4,
   "metadata": {},
   "outputs": [
    {
     "name": "stdout",
     "output_type": "stream",
     "text": [
      "1\n",
      "3\n",
      "4\n",
      "5\n",
      "Length of container: 4\n"
     ]
    }
   ],
   "source": [
    "# To implement the __len__ method to get the length of the container\n",
    "\n",
    "from collections.abc import Iterable, Sized\n",
    "from typing import Iterator\n",
    "\n",
    "class MyIterable(Iterable,Sized):\n",
    "    def __init__(self, items) -> None:\n",
    "        self.items = items\n",
    "    \n",
    "    def __iter__(self) -> Iterator:\n",
    "        return iter(self.items)\n",
    "\n",
    "    def __len__(self) -> int:\n",
    "        return len(self.items)\n",
    "\n",
    "obj = MyIterable([1,3,4,5])\n",
    "for item in obj:\n",
    "    print(item)\n",
    "\n",
    "print(f\"Length of container: {len(obj)}\")"
   ]
  },
  {
   "cell_type": "markdown",
   "metadata": {},
   "source": [
    "#### Sequence \n",
    "Sequences are used for ordered collections where index-based access is required. Real-life examples include managing a playlist of songs, storing ordered history logs, or handling paginated results where you need to access specific pages."
   ]
  },
  {
   "cell_type": "code",
   "execution_count": 9,
   "metadata": {},
   "outputs": [
    {
     "name": "stdout",
     "output_type": "stream",
     "text": [
      "At position 1 is 2\n",
      "Length of obj: 4\n"
     ]
    }
   ],
   "source": [
    "# Inherits from Iterable and Sized, adding __getitem__ for index-based access to items.\n",
    "\n",
    "from collections.abc import Sequence\n",
    "\n",
    "class MySequence(Sequence):\n",
    "    def __init__(self, items) -> None:\n",
    "        self.items = items\n",
    "\n",
    "    def __getitem__(self,idx):\n",
    "        return self.items[idx]\n",
    "\n",
    "    def __len__(self) -> int:\n",
    "        return len(self.items)\n",
    "\n",
    "obj = MySequence([1,2,3,4])\n",
    "print(f\"At position {1} is {obj[1]}\")\n",
    "print(f\"Length of obj: {len(obj)}\")"
   ]
  },
  {
   "cell_type": "markdown",
   "metadata": {},
   "source": [
    "#### Mapping\n",
    "Mappings are used for key-value storage, which is ubiquitous in programming. Examples include a dictionary of configuration settings, a mapping of usernames to user profiles, or a cache that stores computed results by keys to avoid recomputation.\n"
   ]
  },
  {
   "cell_type": "code",
   "execution_count": 15,
   "metadata": {},
   "outputs": [
    {
     "name": "stdout",
     "output_type": "stream",
     "text": [
      "a\n",
      "Keys:  [1, 2, 3]\n"
     ]
    }
   ],
   "source": [
    "# Similar to Sequence, but designed for key-value pairs, implementing methods like __getitem__, keys, items, and values.\n",
    "\n",
    "from collections.abc import Mapping\n",
    "from typing import Iterator\n",
    "\n",
    "class MyMap(Mapping):\n",
    "    def __init__(self, items) -> None:\n",
    "        self.items = items\n",
    "    \n",
    "    def __getitem__(self, key):\n",
    "        return self.items[key]\n",
    "    \n",
    "    def __iter__(self) -> Iterator:\n",
    "        return iter(self.items)\n",
    "\n",
    "    def __len__(self) -> int:\n",
    "        return len(self.items)\n",
    "    \n",
    "obj = MyMap({1:'a',2:'b',3:'c'})\n",
    "print(obj[1])\n",
    "print(\"Keys: \",list(obj.keys()))"
   ]
  },
  {
   "cell_type": "code",
   "execution_count": null,
   "metadata": {},
   "outputs": [],
   "source": []
  }
 ],
 "metadata": {
  "kernelspec": {
   "display_name": ".venv",
   "language": "python",
   "name": "python3"
  },
  "language_info": {
   "codemirror_mode": {
    "name": "ipython",
    "version": 3
   },
   "file_extension": ".py",
   "mimetype": "text/x-python",
   "name": "python",
   "nbconvert_exporter": "python",
   "pygments_lexer": "ipython3",
   "version": "3.12.4"
  }
 },
 "nbformat": 4,
 "nbformat_minor": 2
}
