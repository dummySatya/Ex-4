{
 "cells": [
  {
   "cell_type": "code",
   "execution_count": 45,
   "metadata": {},
   "outputs": [],
   "source": [
    "from abc import ABC,abstractmethod"
   ]
  },
  {
   "cell_type": "code",
   "execution_count": 46,
   "metadata": {},
   "outputs": [],
   "source": [
    "class Cartoon(ABC):\n",
    "    def __init__(self, name, genre):\n",
    "        self.name = name\n",
    "        self.genre = genre\n",
    "    \n",
    "    @abstractmethod\n",
    "    def display(self):\n",
    "        ..."
   ]
  },
  {
   "cell_type": "markdown",
   "metadata": {},
   "source": [
    "Note: `...` is called Ellipsis, which can be used similar to `pass` statement"
   ]
  },
  {
   "cell_type": "code",
   "execution_count": 47,
   "metadata": {},
   "outputs": [
    {
     "ename": "TypeError",
     "evalue": "Can't instantiate abstract class Cartoon without an implementation for abstract method 'display'",
     "output_type": "error",
     "traceback": [
      "\u001b[0;31m---------------------------------------------------------------------------\u001b[0m",
      "\u001b[0;31mTypeError\u001b[0m                                 Traceback (most recent call last)",
      "Cell \u001b[0;32mIn[47], line 1\u001b[0m\n\u001b[0;32m----> 1\u001b[0m obj \u001b[38;5;241m=\u001b[39m \u001b[43mCartoon\u001b[49m\u001b[43m(\u001b[49m\u001b[38;5;124;43m\"\u001b[39;49m\u001b[38;5;124;43mtom\u001b[39;49m\u001b[38;5;124;43m\"\u001b[39;49m\u001b[43m,\u001b[49m\u001b[38;5;124;43m\"\u001b[39;49m\u001b[38;5;124;43mcomedy\u001b[39;49m\u001b[38;5;124;43m\"\u001b[39;49m\u001b[43m)\u001b[49m\n",
      "\u001b[0;31mTypeError\u001b[0m: Can't instantiate abstract class Cartoon without an implementation for abstract method 'display'"
     ]
    }
   ],
   "source": [
    "obj = Cartoon(\"tom\",\"comedy\")"
   ]
  },
  {
   "cell_type": "markdown",
   "metadata": {},
   "source": [
    "We can see that we cannot instantiate an abstract class without an implementation.  \n",
    "The priority of abstractmethod is higher than the \\_\\_init\\_\\_, hence first itself it throws error"
   ]
  },
  {
   "cell_type": "code",
   "execution_count": 48,
   "metadata": {},
   "outputs": [],
   "source": [
    "class TomAndJerry(Cartoon):\n",
    "    def __init__(self, name, genre):\n",
    "        super().__init__(name, genre)\n",
    "    \n",
    "    def display(self):\n",
    "        print(f\"We're of fun type\")"
   ]
  },
  {
   "cell_type": "code",
   "execution_count": 49,
   "metadata": {},
   "outputs": [],
   "source": [
    "tomjerry = TomAndJerry(\"tom\",\"comedy\")"
   ]
  },
  {
   "cell_type": "code",
   "execution_count": 50,
   "metadata": {},
   "outputs": [],
   "source": [
    "# Implementing an abstract class, but method not being implemented gives error when someone tries to instanciate object\n",
    "class Doraemon(Cartoon):\n",
    "    def __init__(self, name, genre):\n",
    "        super().__init__(name, genre)\n",
    "    \n",
    "    # def display(self):\n",
    "    #     print(f\"We're of futuristic type\")"
   ]
  },
  {
   "cell_type": "code",
   "execution_count": 51,
   "metadata": {},
   "outputs": [
    {
     "ename": "TypeError",
     "evalue": "Can't instantiate abstract class Doraemon without an implementation for abstract method 'display'",
     "output_type": "error",
     "traceback": [
      "\u001b[0;31m---------------------------------------------------------------------------\u001b[0m",
      "\u001b[0;31mTypeError\u001b[0m                                 Traceback (most recent call last)",
      "Cell \u001b[0;32mIn[51], line 1\u001b[0m\n\u001b[0;32m----> 1\u001b[0m dora \u001b[38;5;241m=\u001b[39m \u001b[43mDoraemon\u001b[49m\u001b[43m(\u001b[49m\u001b[38;5;124;43m\"\u001b[39;49m\u001b[38;5;124;43mdoraemon\u001b[39;49m\u001b[38;5;124;43m\"\u001b[39;49m\u001b[43m,\u001b[49m\u001b[38;5;124;43m\"\u001b[39;49m\u001b[38;5;124;43mexciting\u001b[39;49m\u001b[38;5;124;43m\"\u001b[39;49m\u001b[43m)\u001b[49m\n",
      "\u001b[0;31mTypeError\u001b[0m: Can't instantiate abstract class Doraemon without an implementation for abstract method 'display'"
     ]
    }
   ],
   "source": [
    "dora = Doraemon(\"doraemon\",\"exciting\")"
   ]
  },
  {
   "cell_type": "code",
   "execution_count": 52,
   "metadata": {},
   "outputs": [
    {
     "name": "stdout",
     "output_type": "stream",
     "text": [
      "We're of fun type\n"
     ]
    }
   ],
   "source": [
    "tomjerry.display()"
   ]
  },
  {
   "cell_type": "code",
   "execution_count": 53,
   "metadata": {},
   "outputs": [],
   "source": [
    "# Why not just use normal class?\n",
    "\n",
    "class Cartoon():\n",
    "    def __init__(self, name, genre):\n",
    "        self.name = name\n",
    "        self.genre = genre\n",
    "    \n",
    "    def display(self):\n",
    "        ..."
   ]
  },
  {
   "cell_type": "code",
   "execution_count": 54,
   "metadata": {},
   "outputs": [],
   "source": [
    "class TomAndJerry(Cartoon):\n",
    "    def __init__(self, name, genre):\n",
    "        super().__init__(name, genre)\n",
    "    \n",
    "    def display(self):\n",
    "        print(f\"We're of fun type\")"
   ]
  },
  {
   "cell_type": "code",
   "execution_count": 55,
   "metadata": {},
   "outputs": [
    {
     "name": "stdout",
     "output_type": "stream",
     "text": [
      "We're of fun type\n"
     ]
    }
   ],
   "source": [
    "tom = TomAndJerry(\"tom\",\"comedy\")\n",
    "tom.display()"
   ]
  },
  {
   "cell_type": "code",
   "execution_count": 56,
   "metadata": {},
   "outputs": [],
   "source": [
    "# Now lets try without implementing the display\n",
    "class Doraemon(Cartoon):\n",
    "    def __init__(self, name, genre):\n",
    "        super().__init__(name, genre)\n",
    "    \n",
    "    # def display(self):\n",
    "    #     print(f\"We're of futuristic type\")"
   ]
  },
  {
   "cell_type": "code",
   "execution_count": 57,
   "metadata": {},
   "outputs": [],
   "source": [
    "dora = Doraemon(\"doraemon\",\"exciting\")\n",
    "dora.display()"
   ]
  },
  {
   "cell_type": "markdown",
   "metadata": {},
   "source": [
    "As we can see, the diff btw Abstract Class(with abstractmethod) and Normal Class(with method overidding) is that abstract class enforces to implement the method "
   ]
  },
  {
   "cell_type": "markdown",
   "metadata": {},
   "source": [
    "### collections.abc Module\n",
    "\n",
    "The collection.abc module provides a set of ABCs for common collection types in Python, such as lists, dictionaries, sets, and more.  \n",
    "These ABCs can be used as a type of hint to indicate that a particular parameter or return value is expected to be a collection of a specific type.  \n",
    "Additionally, they can be used to check if a particular object is an instance of a collection type.  \n",
    "The collections.abc module promotes consistent behavior among container types.  \n",
    "It allows you to create custom container types that behave like built-in Python collections by implementing the required methods."
   ]
  }
 ],
 "metadata": {
  "kernelspec": {
   "display_name": ".venv",
   "language": "python",
   "name": "python3"
  },
  "language_info": {
   "codemirror_mode": {
    "name": "ipython",
    "version": 3
   },
   "file_extension": ".py",
   "mimetype": "text/x-python",
   "name": "python",
   "nbconvert_exporter": "python",
   "pygments_lexer": "ipython3",
   "version": "3.12.4"
  }
 },
 "nbformat": 4,
 "nbformat_minor": 2
}
