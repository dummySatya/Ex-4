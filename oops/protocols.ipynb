{
 "cells": [
  {
   "cell_type": "code",
   "execution_count": 6,
   "metadata": {},
   "outputs": [
    {
     "name": "stdout",
     "output_type": "stream",
     "text": [
      "Im playing football\n",
      "Im playing Guitar\n"
     ]
    },
    {
     "ename": "AttributeError",
     "evalue": "'Phone' object has no attribute 'play'",
     "output_type": "error",
     "traceback": [
      "\u001b[0;31m---------------------------------------------------------------------------\u001b[0m",
      "\u001b[0;31mAttributeError\u001b[0m                            Traceback (most recent call last)",
      "Cell \u001b[0;32mIn[6], line 32\u001b[0m\n\u001b[1;32m     30\u001b[0m play_it(football)\n\u001b[1;32m     31\u001b[0m play_it(guitar)\n\u001b[0;32m---> 32\u001b[0m \u001b[43mplay_it\u001b[49m\u001b[43m(\u001b[49m\u001b[43mphone\u001b[49m\u001b[43m)\u001b[49m\n",
      "Cell \u001b[0;32mIn[6], line 24\u001b[0m, in \u001b[0;36mplay_it\u001b[0;34m(something)\u001b[0m\n\u001b[1;32m     23\u001b[0m \u001b[38;5;28;01mdef\u001b[39;00m \u001b[38;5;21mplay_it\u001b[39m(something: Playable):\n\u001b[0;32m---> 24\u001b[0m     \u001b[43msomething\u001b[49m\u001b[38;5;241;43m.\u001b[39;49m\u001b[43mplay\u001b[49m()\n",
      "\u001b[0;31mAttributeError\u001b[0m: 'Phone' object has no attribute 'play'"
     ]
    }
   ],
   "source": [
    "from typing import Protocol\n",
    "\n",
    "# Im defining a Protocol, or more like a structure which says that any object having these methods would be following my Protocol\n",
    "class Playable(Protocol):\n",
    "    def play():\n",
    "        pass\n",
    "\n",
    "class Football:\n",
    "    def play(self):\n",
    "        print(\"Im playing football\")\n",
    "\n",
    "class Guitar:\n",
    "    def play(self):\n",
    "        print(\"Im playing Guitar\")\n",
    "\n",
    "class Phone:\n",
    "    def ring(self):\n",
    "        print(\"Phone's Ringing!!\")\n",
    "\n",
    "# I define a function which takes in something that is Playable\n",
    "# Now, if I don't specify this annotations also it's fine, but Protocols are generally used for static duck typing\n",
    "# So specifying this helps in finding out in compile time itself (using mypy) that whether that class is Playable or not\n",
    "def play_it(something: Playable):\n",
    "    something.play()\n",
    "\n",
    "football = Football()\n",
    "guitar = Guitar()\n",
    "phone = Phone()\n",
    "\n",
    "play_it(football)\n",
    "play_it(guitar)\n",
    "play_it(phone)"
   ]
  },
  {
   "cell_type": "code",
   "execution_count": null,
   "metadata": {},
   "outputs": [],
   "source": []
  }
 ],
 "metadata": {
  "kernelspec": {
   "display_name": ".venv",
   "language": "python",
   "name": "python3"
  },
  "language_info": {
   "codemirror_mode": {
    "name": "ipython",
    "version": 3
   },
   "file_extension": ".py",
   "mimetype": "text/x-python",
   "name": "python",
   "nbconvert_exporter": "python",
   "pygments_lexer": "ipython3",
   "version": "3.12.4"
  }
 },
 "nbformat": 4,
 "nbformat_minor": 2
}
