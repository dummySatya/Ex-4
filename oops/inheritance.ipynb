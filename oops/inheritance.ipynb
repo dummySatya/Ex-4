{
 "cells": [
  {
   "cell_type": "markdown",
   "metadata": {},
   "source": [
    "Single Inheritance"
   ]
  },
  {
   "cell_type": "code",
   "execution_count": 3,
   "metadata": {},
   "outputs": [],
   "source": [
    "class Vehicle:\n",
    "    def __init__(self, brand, model, year) -> None:\n",
    "        self.brand = brand\n",
    "        self.model = model\n",
    "        self.year = year\n",
    "        self._started = False\n",
    "    \n",
    "    def start(self):\n",
    "        print(\"Starting Engine...\")\n",
    "        self._started = True\n",
    "    \n",
    "    def stop(self):\n",
    "        print(\"Stopping Engine...\")\n",
    "        self._started = False"
   ]
  },
  {
   "cell_type": "code",
   "execution_count": 4,
   "metadata": {},
   "outputs": [],
   "source": [
    "class Car(Vehicle):\n",
    "    def __init__(self, brand, model, year,seats):\n",
    "        super().__init__(brand, model, year)\n",
    "        self.seats = seats\n",
    "    \n",
    "    def drive(self):\n",
    "        print(f\"Driving {self.brand}\")\n",
    "    \n",
    "    def __str__(self) -> str:\n",
    "        return f\"{self.seats} seats\""
   ]
  },
  {
   "cell_type": "code",
   "execution_count": 6,
   "metadata": {},
   "outputs": [],
   "source": [
    "class Bike(Vehicle):\n",
    "    def __init__(self, brand, model, year,engine) -> None:\n",
    "        super().__init__(brand, model, year)\n",
    "        self.engine = engine\n",
    "    \n",
    "    def ride(self):\n",
    "        print(f\"Riding {self.brand}\")\n",
    "    \n",
    "    def __str__(self) -> str:\n",
    "        return f\"{self.engine} engine\""
   ]
  },
  {
   "cell_type": "code",
   "execution_count": 8,
   "metadata": {},
   "outputs": [
    {
     "name": "stdout",
     "output_type": "stream",
     "text": [
      "5 seats\n"
     ]
    }
   ],
   "source": [
    "nexon = Car(\"Tata\",\"Nexon\",2021,5)\n",
    "print(nexon)"
   ]
  },
  {
   "cell_type": "code",
   "execution_count": 9,
   "metadata": {},
   "outputs": [
    {
     "name": "stdout",
     "output_type": "stream",
     "text": [
      "Starting Engine...\n"
     ]
    }
   ],
   "source": [
    "nexon.start()"
   ]
  },
  {
   "cell_type": "code",
   "execution_count": 10,
   "metadata": {},
   "outputs": [
    {
     "name": "stdout",
     "output_type": "stream",
     "text": [
      "Driving Tata\n"
     ]
    }
   ],
   "source": [
    "nexon.drive()"
   ]
  },
  {
   "cell_type": "code",
   "execution_count": 11,
   "metadata": {},
   "outputs": [
    {
     "name": "stdout",
     "output_type": "stream",
     "text": [
      "Stopping Engine...\n"
     ]
    }
   ],
   "source": [
    "nexon.stop()"
   ]
  },
  {
   "cell_type": "code",
   "execution_count": 12,
   "metadata": {},
   "outputs": [
    {
     "name": "stdout",
     "output_type": "stream",
     "text": [
      "4 stroke engine\n"
     ]
    }
   ],
   "source": [
    "bullet = Bike(\"RE\",\"Hunter\",2023,\"4 stroke\")\n",
    "print(bullet)"
   ]
  },
  {
   "cell_type": "code",
   "execution_count": 13,
   "metadata": {},
   "outputs": [
    {
     "name": "stdout",
     "output_type": "stream",
     "text": [
      "Starting Engine...\n"
     ]
    }
   ],
   "source": [
    "bullet.start()"
   ]
  },
  {
   "cell_type": "code",
   "execution_count": 14,
   "metadata": {},
   "outputs": [
    {
     "name": "stdout",
     "output_type": "stream",
     "text": [
      "Riding RE\n"
     ]
    }
   ],
   "source": [
    "bullet.ride()"
   ]
  },
  {
   "cell_type": "code",
   "execution_count": 15,
   "metadata": {},
   "outputs": [
    {
     "name": "stdout",
     "output_type": "stream",
     "text": [
      "Stopping Engine...\n"
     ]
    }
   ],
   "source": [
    "bullet.stop()"
   ]
  },
  {
   "cell_type": "markdown",
   "metadata": {},
   "source": [
    "Extending vs Overidding Methods"
   ]
  },
  {
   "cell_type": "code",
   "execution_count": 22,
   "metadata": {},
   "outputs": [],
   "source": [
    "# Extending Methods- Adding details in child class method on top of parent class's method\n",
    "\n",
    "class Animal:\n",
    "    def detail(self):\n",
    "        print(\"Hello I am Animal\")\n",
    "        print(\"I posses Animal Properties\")\n",
    "\n",
    "class Doggo(Animal):\n",
    "    def detail(self):\n",
    "        super().detail()\n",
    "        print(\"I am Doggo\")\n",
    "\n",
    "class Cat(Animal):\n",
    "    def detail(self):\n",
    "        super().detail()\n",
    "        print(\"I am Cat\")\n",
    "\n",
    "tucker = Doggo()\n",
    "tom = Cat()"
   ]
  },
  {
   "cell_type": "code",
   "execution_count": 23,
   "metadata": {},
   "outputs": [
    {
     "name": "stdout",
     "output_type": "stream",
     "text": [
      "Hello I am Animal\n",
      "I posses Animal Properties\n",
      "I am Doggo\n"
     ]
    }
   ],
   "source": [
    "tucker.detail()"
   ]
  },
  {
   "cell_type": "code",
   "execution_count": 24,
   "metadata": {},
   "outputs": [
    {
     "name": "stdout",
     "output_type": "stream",
     "text": [
      "Hello I am Animal\n",
      "I posses Animal Properties\n",
      "I am Cat\n"
     ]
    }
   ],
   "source": [
    "tom.detail()"
   ]
  },
  {
   "cell_type": "code",
   "execution_count": null,
   "metadata": {},
   "outputs": [],
   "source": []
  }
 ],
 "metadata": {
  "language_info": {
   "name": "python"
  }
 },
 "nbformat": 4,
 "nbformat_minor": 2
}
