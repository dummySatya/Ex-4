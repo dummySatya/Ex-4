{
 "cells": [
  {
   "cell_type": "markdown",
   "metadata": {},
   "source": [
    "Single Inheritance"
   ]
  },
  {
   "cell_type": "code",
   "execution_count": 3,
   "metadata": {},
   "outputs": [],
   "source": [
    "class Vehicle:\n",
    "    def __init__(self, brand, model, year) -> None:\n",
    "        self.brand = brand\n",
    "        self.model = model\n",
    "        self.year = year\n",
    "        self._started = False\n",
    "    \n",
    "    def start(self):\n",
    "        print(\"Starting Engine...\")\n",
    "        self._started = True\n",
    "    \n",
    "    def stop(self):\n",
    "        print(\"Stopping Engine...\")\n",
    "        self._started = False"
   ]
  },
  {
   "cell_type": "code",
   "execution_count": 4,
   "metadata": {},
   "outputs": [],
   "source": [
    "class Car(Vehicle):\n",
    "    def __init__(self, brand, model, year,seats):\n",
    "        super().__init__(brand, model, year)\n",
    "        self.seats = seats\n",
    "    \n",
    "    def drive(self):\n",
    "        print(f\"Driving {self.brand}\")\n",
    "    \n",
    "    def __str__(self) -> str:\n",
    "        return f\"{self.seats} seats\""
   ]
  },
  {
   "cell_type": "code",
   "execution_count": 6,
   "metadata": {},
   "outputs": [],
   "source": [
    "class Bike(Vehicle):\n",
    "    def __init__(self, brand, model, year,engine) -> None:\n",
    "        super().__init__(brand, model, year)\n",
    "        self.engine = engine\n",
    "    \n",
    "    def ride(self):\n",
    "        print(f\"Riding {self.brand}\")\n",
    "    \n",
    "    def __str__(self) -> str:\n",
    "        return f\"{self.engine} engine\""
   ]
  },
  {
   "cell_type": "code",
   "execution_count": 8,
   "metadata": {},
   "outputs": [
    {
     "name": "stdout",
     "output_type": "stream",
     "text": [
      "5 seats\n"
     ]
    }
   ],
   "source": [
    "nexon = Car(\"Tata\",\"Nexon\",2021,5)\n",
    "print(nexon)"
   ]
  },
  {
   "cell_type": "code",
   "execution_count": 9,
   "metadata": {},
   "outputs": [
    {
     "name": "stdout",
     "output_type": "stream",
     "text": [
      "Starting Engine...\n"
     ]
    }
   ],
   "source": [
    "nexon.start()"
   ]
  },
  {
   "cell_type": "code",
   "execution_count": 10,
   "metadata": {},
   "outputs": [
    {
     "name": "stdout",
     "output_type": "stream",
     "text": [
      "Driving Tata\n"
     ]
    }
   ],
   "source": [
    "nexon.drive()"
   ]
  },
  {
   "cell_type": "code",
   "execution_count": 11,
   "metadata": {},
   "outputs": [
    {
     "name": "stdout",
     "output_type": "stream",
     "text": [
      "Stopping Engine...\n"
     ]
    }
   ],
   "source": [
    "nexon.stop()"
   ]
  },
  {
   "cell_type": "code",
   "execution_count": 12,
   "metadata": {},
   "outputs": [
    {
     "name": "stdout",
     "output_type": "stream",
     "text": [
      "4 stroke engine\n"
     ]
    }
   ],
   "source": [
    "bullet = Bike(\"RE\",\"Hunter\",2023,\"4 stroke\")\n",
    "print(bullet)"
   ]
  },
  {
   "cell_type": "code",
   "execution_count": 13,
   "metadata": {},
   "outputs": [
    {
     "name": "stdout",
     "output_type": "stream",
     "text": [
      "Starting Engine...\n"
     ]
    }
   ],
   "source": [
    "bullet.start()"
   ]
  },
  {
   "cell_type": "code",
   "execution_count": 14,
   "metadata": {},
   "outputs": [
    {
     "name": "stdout",
     "output_type": "stream",
     "text": [
      "Riding RE\n"
     ]
    }
   ],
   "source": [
    "bullet.ride()"
   ]
  },
  {
   "cell_type": "code",
   "execution_count": 15,
   "metadata": {},
   "outputs": [
    {
     "name": "stdout",
     "output_type": "stream",
     "text": [
      "Stopping Engine...\n"
     ]
    }
   ],
   "source": [
    "bullet.stop()"
   ]
  },
  {
   "cell_type": "markdown",
   "metadata": {},
   "source": [
    "Extending vs Overidding Methods"
   ]
  },
  {
   "cell_type": "code",
   "execution_count": 22,
   "metadata": {},
   "outputs": [],
   "source": [
    "# Extending Methods- Adding details in child class method on top of parent class's method\n",
    "\n",
    "class Animal:\n",
    "    def detail(self):\n",
    "        print(\"Hello I am Animal\")\n",
    "        print(\"I posses Animal Properties\")\n",
    "\n",
    "class Doggo(Animal):\n",
    "    def detail(self):\n",
    "        super().detail()\n",
    "        print(\"I am Doggo\")\n",
    "\n",
    "class Cat(Animal):\n",
    "    def detail(self):\n",
    "        super().detail()\n",
    "        print(\"I am Cat\")\n",
    "\n",
    "tucker = Doggo()\n",
    "tom = Cat()"
   ]
  },
  {
   "cell_type": "code",
   "execution_count": 23,
   "metadata": {},
   "outputs": [
    {
     "name": "stdout",
     "output_type": "stream",
     "text": [
      "Hello I am Animal\n",
      "I posses Animal Properties\n",
      "I am Doggo\n"
     ]
    }
   ],
   "source": [
    "tucker.detail()"
   ]
  },
  {
   "cell_type": "code",
   "execution_count": 24,
   "metadata": {},
   "outputs": [
    {
     "name": "stdout",
     "output_type": "stream",
     "text": [
      "Hello I am Animal\n",
      "I posses Animal Properties\n",
      "I am Cat\n"
     ]
    }
   ],
   "source": [
    "tom.detail()"
   ]
  },
  {
   "cell_type": "code",
   "execution_count": 26,
   "metadata": {},
   "outputs": [
    {
     "name": "stdout",
     "output_type": "stream",
     "text": [
      "Logical Processors: 12 \n",
      "Logical Processors: 32\n"
     ]
    }
   ],
   "source": [
    "# Overidding Methods\n",
    "\n",
    "class System:\n",
    "    def __init__(self, type, model, cores) -> None:\n",
    "        self.type = type\n",
    "        self.model = model\n",
    "        self.cores = cores\n",
    "    \n",
    "    def logicalProcessors(self):\n",
    "        print(f\"Logical Processors: {self.cores*2} \")\n",
    "\n",
    "class ServerSystem(System):\n",
    "    def __init__(self, type, model, cores, sockets) -> None:\n",
    "        super().__init__(type, model, cores)\n",
    "        self.sockets = sockets\n",
    "\n",
    "    def logicalProcessors(self):\n",
    "        print(f\"Logical Processors: {self.sockets * self.cores}\")\n",
    "\n",
    "legion = System(\"Laptop\",\"Lenovo\",6)\n",
    "intelSilver = ServerSystem(\"Server Grade\",\"Intel\",8,4)\n",
    "\n",
    "legion.logicalProcessors()\n",
    "intelSilver.logicalProcessors()"
   ]
  },
  {
   "cell_type": "markdown",
   "metadata": {},
   "source": [
    "Multiple Inheritance"
   ]
  },
  {
   "cell_type": "code",
   "execution_count": 35,
   "metadata": {},
   "outputs": [
    {
     "name": "stdout",
     "output_type": "stream",
     "text": [
      "B class display called\n"
     ]
    }
   ],
   "source": [
    "# Diamond Problem? Python avoid this by using Method Order Resolution(MRO)\n",
    "\n",
    "class A:\n",
    "    def display(self):\n",
    "        print(\"A class display called\")\n",
    "\n",
    "class C(A):\n",
    "    def display(self):\n",
    "        print(\"C class display called\")\n",
    "\n",
    "class B(A):\n",
    "    def display(self):\n",
    "        print(\"B class display called\")\n",
    "\n",
    "\n",
    "class D(B,C): # what ever is given first here is taken\n",
    "    def display(self):\n",
    "        return super().display()\n",
    "\n",
    "obj = D()\n",
    "obj.display()\n",
    "\n",
    "# How will D class know which display() method to use? MRO defines it in Python"
   ]
  },
  {
   "cell_type": "markdown",
   "metadata": {},
   "source": [
    "In general, Python searches for methods and attributes in the following order:\n",
    "\n",
    "1. The current class\n",
    "2. The leftmost superclasses\n",
    "3. The superclass listed next, from left to right, up to the last superclass\n",
    "4. The superclasses of inherited classes\n",
    "5. The object class\n"
   ]
  },
  {
   "cell_type": "code",
   "execution_count": 36,
   "metadata": {},
   "outputs": [
    {
     "data": {
      "text/plain": [
       "(__main__.D, __main__.B, __main__.C, __main__.A, object)"
      ]
     },
     "execution_count": 36,
     "metadata": {},
     "output_type": "execute_result"
    }
   ],
   "source": [
    "D.__mro__"
   ]
  }
 ],
 "metadata": {
  "language_info": {
   "name": "python"
  }
 },
 "nbformat": 4,
 "nbformat_minor": 2
}
