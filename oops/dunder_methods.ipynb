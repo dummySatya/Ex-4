{
 "cells": [
  {
   "cell_type": "markdown",
   "metadata": {},
   "source": [
    "A method that is called implicitly by Python to execute a certain operation on a type, such as addition. Such methods have names starting and ending with double underscores."
   ]
  },
  {
   "cell_type": "code",
   "execution_count": 1,
   "metadata": {},
   "outputs": [
    {
     "data": {
      "text/plain": [
       "3"
      ]
     },
     "execution_count": 1,
     "metadata": {},
     "output_type": "execute_result"
    }
   ],
   "source": [
    "# When we do 1+2, it works like:\n",
    "(1).__add__(2)"
   ]
  },
  {
   "cell_type": "markdown",
   "metadata": {},
   "source": [
    "#### Controlling Object creation process"
   ]
  },
  {
   "cell_type": "code",
   "execution_count": 2,
   "metadata": {},
   "outputs": [
    {
     "name": "stdout",
     "output_type": "stream",
     "text": [
      "Name: satya\n"
     ]
    }
   ],
   "source": [
    "# init - used to initialize the object\n",
    "\n",
    "class Demo:\n",
    "    def __init__(self,name):\n",
    "        self.name = name\n",
    "    \n",
    "    def disp(self):\n",
    "        print(f\"Name: {self.name}\")\n",
    "\n",
    "demo = Demo(\"satya\")\n",
    "demo.disp()"
   ]
  },
  {
   "cell_type": "code",
   "execution_count": 4,
   "metadata": {},
   "outputs": [
    {
     "name": "stdout",
     "output_type": "stream",
     "text": [
      "Creating Demo instance\n",
      "Hello\n"
     ]
    }
   ],
   "source": [
    "# new - used to initialize the class which is then passed to init\n",
    "\n",
    "class Demo:\n",
    "    def __new__(cls):\n",
    "        print(\"Creating Demo instance\")\n",
    "        return super().__new__(cls)\n",
    "    \n",
    "    def hello(self):\n",
    "        print(\"Hello\")\n",
    "    \n",
    "demo = Demo()\n",
    "demo.hello()"
   ]
  },
  {
   "cell_type": "markdown",
   "metadata": {},
   "source": [
    "#### Objects as strings"
   ]
  },
  {
   "cell_type": "code",
   "execution_count": 5,
   "metadata": {},
   "outputs": [
    {
     "name": "stdout",
     "output_type": "stream",
     "text": [
      "<__main__.Demo object at 0x7388c4320170>\n"
     ]
    },
    {
     "data": {
      "text/plain": [
       "<__main__.Demo at 0x7388c4320170>"
      ]
     },
     "execution_count": 5,
     "metadata": {},
     "output_type": "execute_result"
    }
   ],
   "source": [
    "class Demo:\n",
    "    def __init__(self,name):\n",
    "        self.name = name\n",
    "    \n",
    "    def disp(self):\n",
    "        print(f\"Name: {self.name}\")\n",
    "\n",
    "demo = Demo(\"satya\")\n",
    "print(demo)\n",
    "demo"
   ]
  },
  {
   "cell_type": "code",
   "execution_count": 7,
   "metadata": {},
   "outputs": [
    {
     "name": "stdout",
     "output_type": "stream",
     "text": [
      "Demo printed\n"
     ]
    },
    {
     "data": {
      "text/plain": [
       "Demo called"
      ]
     },
     "execution_count": 7,
     "metadata": {},
     "output_type": "execute_result"
    }
   ],
   "source": [
    "# the above are printed and returned when object is printed or called. to change this is \n",
    "\n",
    "class Demo:\n",
    "    def __init__(self,name):\n",
    "        self.name = name\n",
    "    \n",
    "    def disp(self):\n",
    "        print(f\"Name: {self.name}\")\n",
    "\n",
    "    # Informal Representation\n",
    "    def __str__(self) -> str:\n",
    "        return \"Demo printed\"\n",
    "    \n",
    "    # Formal Representation\n",
    "    def __repr__(self) -> str:\n",
    "        return \"Demo called\"\n",
    "\n",
    "demo = Demo(\"satya\")\n",
    "print(demo)\n",
    "demo"
   ]
  },
  {
   "cell_type": "code",
   "execution_count": null,
   "metadata": {},
   "outputs": [],
   "source": []
  }
 ],
 "metadata": {
  "kernelspec": {
   "display_name": ".venv",
   "language": "python",
   "name": "python3"
  },
  "language_info": {
   "codemirror_mode": {
    "name": "ipython",
    "version": 3
   },
   "file_extension": ".py",
   "mimetype": "text/x-python",
   "name": "python",
   "nbconvert_exporter": "python",
   "pygments_lexer": "ipython3",
   "version": "3.12.4"
  }
 },
 "nbformat": 4,
 "nbformat_minor": 2
}
