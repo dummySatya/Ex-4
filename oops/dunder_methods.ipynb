{
 "cells": [
  {
   "cell_type": "markdown",
   "metadata": {},
   "source": [
    "A method that is called implicitly by Python to execute a certain operation on a type, such as addition. Such methods have names starting and ending with double underscores."
   ]
  },
  {
   "cell_type": "code",
   "execution_count": 1,
   "metadata": {},
   "outputs": [
    {
     "data": {
      "text/plain": [
       "3"
      ]
     },
     "execution_count": 1,
     "metadata": {},
     "output_type": "execute_result"
    }
   ],
   "source": [
    "# When we do 1+2, it works like:\n",
    "(1).__add__(2)"
   ]
  },
  {
   "cell_type": "markdown",
   "metadata": {},
   "source": [
    "#### Controlling Object creation process"
   ]
  },
  {
   "cell_type": "code",
   "execution_count": 2,
   "metadata": {},
   "outputs": [
    {
     "name": "stdout",
     "output_type": "stream",
     "text": [
      "Name: satya\n"
     ]
    }
   ],
   "source": [
    "# init - used to initialize the object\n",
    "\n",
    "class Demo:\n",
    "    def __init__(self,name):\n",
    "        self.name = name\n",
    "    \n",
    "    def disp(self):\n",
    "        print(f\"Name: {self.name}\")\n",
    "\n",
    "demo = Demo(\"satya\")\n",
    "demo.disp()"
   ]
  },
  {
   "cell_type": "code",
   "execution_count": 4,
   "metadata": {},
   "outputs": [
    {
     "name": "stdout",
     "output_type": "stream",
     "text": [
      "Creating Demo instance\n",
      "Hello\n"
     ]
    }
   ],
   "source": [
    "# new - used to initialize the class which is then passed to init\n",
    "\n",
    "class Demo:\n",
    "    def __new__(cls):\n",
    "        print(\"Creating Demo instance\")\n",
    "        return super().__new__(cls)\n",
    "    \n",
    "    def hello(self):\n",
    "        print(\"Hello\")\n",
    "    \n",
    "demo = Demo()\n",
    "demo.hello()"
   ]
  },
  {
   "cell_type": "markdown",
   "metadata": {},
   "source": [
    "#### Objects as strings"
   ]
  },
  {
   "cell_type": "code",
   "execution_count": 5,
   "metadata": {},
   "outputs": [
    {
     "name": "stdout",
     "output_type": "stream",
     "text": [
      "<__main__.Demo object at 0x7388c4320170>\n"
     ]
    },
    {
     "data": {
      "text/plain": [
       "<__main__.Demo at 0x7388c4320170>"
      ]
     },
     "execution_count": 5,
     "metadata": {},
     "output_type": "execute_result"
    }
   ],
   "source": [
    "class Demo:\n",
    "    def __init__(self,name):\n",
    "        self.name = name\n",
    "    \n",
    "    def disp(self):\n",
    "        print(f\"Name: {self.name}\")\n",
    "\n",
    "demo = Demo(\"satya\")\n",
    "print(demo)\n",
    "demo"
   ]
  },
  {
   "cell_type": "code",
   "execution_count": 7,
   "metadata": {},
   "outputs": [
    {
     "name": "stdout",
     "output_type": "stream",
     "text": [
      "Demo printed\n"
     ]
    },
    {
     "data": {
      "text/plain": [
       "Demo called"
      ]
     },
     "execution_count": 7,
     "metadata": {},
     "output_type": "execute_result"
    }
   ],
   "source": [
    "# the above are printed and returned when object is printed or called. to change this is \n",
    "\n",
    "class Demo:\n",
    "    def __init__(self,name):\n",
    "        self.name = name\n",
    "    \n",
    "    def disp(self):\n",
    "        print(f\"Name: {self.name}\")\n",
    "\n",
    "    # Informal Representation\n",
    "    def __str__(self) -> str:\n",
    "        return \"Demo printed\"\n",
    "    \n",
    "    # Formal Representation\n",
    "    def __repr__(self) -> str:\n",
    "        return \"Demo called\"\n",
    "\n",
    "demo = Demo(\"satya\")\n",
    "print(demo)\n",
    "demo"
   ]
  },
  {
   "cell_type": "markdown",
   "metadata": {},
   "source": [
    "#### Operator Overloading"
   ]
  },
  {
   "cell_type": "code",
   "execution_count": 47,
   "metadata": {},
   "outputs": [],
   "source": [
    "class Storage():\n",
    "    def __init__(self,value,unit) -> None:\n",
    "        self.value = value\n",
    "        self.unit = unit\n",
    "    \n",
    "    def __add__(self,other):\n",
    "        if(not isinstance(other,type(self))):\n",
    "            raise TypeError(\"Unsupported +\")\n",
    "        \n",
    "        if self.unit != other.unit:\n",
    "            raise TypeError(\"Unsupported units\")\n",
    "        \n",
    "        return Storage(self.value + other.value, self.unit)"
   ]
  },
  {
   "cell_type": "code",
   "execution_count": 48,
   "metadata": {},
   "outputs": [
    {
     "data": {
      "text/plain": [
       "(3000, 'GB')"
      ]
     },
     "execution_count": 48,
     "metadata": {},
     "output_type": "execute_result"
    }
   ],
   "source": [
    "disk1 = Storage(1000,\"GB\")\n",
    "disk2 = Storage(2000,\"GB\")\n",
    "disk3 = Storage(3,\"TB\")\n",
    "\n",
    "res1 = disk1 + disk2\n",
    "res1.value, res1.unit"
   ]
  },
  {
   "cell_type": "code",
   "execution_count": 49,
   "metadata": {},
   "outputs": [
    {
     "ename": "TypeError",
     "evalue": "Unsupported units",
     "output_type": "error",
     "traceback": [
      "\u001b[0;31m---------------------------------------------------------------------------\u001b[0m",
      "\u001b[0;31mTypeError\u001b[0m                                 Traceback (most recent call last)",
      "Cell \u001b[0;32mIn[49], line 1\u001b[0m\n\u001b[0;32m----> 1\u001b[0m res2 \u001b[38;5;241m=\u001b[39m \u001b[43mdisk1\u001b[49m\u001b[43m \u001b[49m\u001b[38;5;241;43m+\u001b[39;49m\u001b[43m \u001b[49m\u001b[43mdisk3\u001b[49m\n",
      "Cell \u001b[0;32mIn[47], line 11\u001b[0m, in \u001b[0;36mStorage.__add__\u001b[0;34m(self, other)\u001b[0m\n\u001b[1;32m      8\u001b[0m     \u001b[38;5;28;01mraise\u001b[39;00m \u001b[38;5;167;01mTypeError\u001b[39;00m(\u001b[38;5;124m\"\u001b[39m\u001b[38;5;124mUnsupported +\u001b[39m\u001b[38;5;124m\"\u001b[39m)\n\u001b[1;32m     10\u001b[0m \u001b[38;5;28;01mif\u001b[39;00m \u001b[38;5;28mself\u001b[39m\u001b[38;5;241m.\u001b[39munit \u001b[38;5;241m!=\u001b[39m other\u001b[38;5;241m.\u001b[39munit:\n\u001b[0;32m---> 11\u001b[0m     \u001b[38;5;28;01mraise\u001b[39;00m \u001b[38;5;167;01mTypeError\u001b[39;00m(\u001b[38;5;124m\"\u001b[39m\u001b[38;5;124mUnsupported units\u001b[39m\u001b[38;5;124m\"\u001b[39m)\n\u001b[1;32m     13\u001b[0m \u001b[38;5;28;01mreturn\u001b[39;00m Storage(\u001b[38;5;28mself\u001b[39m\u001b[38;5;241m.\u001b[39mvalue \u001b[38;5;241m+\u001b[39m other\u001b[38;5;241m.\u001b[39mvalue, \u001b[38;5;28mself\u001b[39m\u001b[38;5;241m.\u001b[39munit)\n",
      "\u001b[0;31mTypeError\u001b[0m: Unsupported units"
     ]
    }
   ],
   "source": [
    "res2 = disk1 + disk3"
   ]
  },
  {
   "cell_type": "markdown",
   "metadata": {},
   "source": [
    "When we use add, it does the operation taking the first basis object type from left, that is, if we have obj + obj and if the left obj is not of any numeric type then this would fail  \n",
    "To overcome this, python had \\_\\_r*\\_\\_ version of these arithmetic operations"
   ]
  },
  {
   "cell_type": "code",
   "execution_count": 67,
   "metadata": {},
   "outputs": [],
   "source": [
    "class Number:\n",
    "    def __init__(self, value) -> None:\n",
    "        self.value = value\n",
    "    \n",
    "    def __add__(self, other):\n",
    "        print(\"add called\")\n",
    "        if(isinstance(other,Number)):\n",
    "            return Number(self.value + other.value)\n",
    "        elif(isinstance(other,int or float)):\n",
    "            return Number(self.value + other)\n",
    "        else:\n",
    "            raise TypeError(\"Unsupported types for +\")"
   ]
  },
  {
   "cell_type": "markdown",
   "metadata": {},
   "source": [
    "If we normally do 1+2, it's fine bcs both are numeric, but if we do some `number + instance_obj`,then add is called bcs first operand is numeric and add method is defined is numeric type.  \n",
    "But if `instance_obj + number` is called, it gets rejected because first operand doesnt(maybe) has add defined.  "
   ]
  },
  {
   "cell_type": "code",
   "execution_count": 68,
   "metadata": {},
   "outputs": [
    {
     "name": "stdout",
     "output_type": "stream",
     "text": [
      "add called\n",
      "3\n"
     ]
    }
   ],
   "source": [
    "one = Number(1)\n",
    "two = Number(2)\n",
    "\n",
    "three = one + two \n",
    "print(three.value)"
   ]
  },
  {
   "cell_type": "code",
   "execution_count": 69,
   "metadata": {},
   "outputs": [
    {
     "name": "stdout",
     "output_type": "stream",
     "text": [
      "add called\n"
     ]
    },
    {
     "data": {
      "text/plain": [
       "5"
      ]
     },
     "execution_count": 69,
     "metadata": {},
     "output_type": "execute_result"
    }
   ],
   "source": [
    "five = three + 2\n",
    "five.value"
   ]
  },
  {
   "cell_type": "code",
   "execution_count": 66,
   "metadata": {},
   "outputs": [
    {
     "ename": "TypeError",
     "evalue": "unsupported operand type(s) for +: 'int' and 'Number'",
     "output_type": "error",
     "traceback": [
      "\u001b[0;31m---------------------------------------------------------------------------\u001b[0m",
      "\u001b[0;31mTypeError\u001b[0m                                 Traceback (most recent call last)",
      "Cell \u001b[0;32mIn[66], line 1\u001b[0m\n\u001b[0;32m----> 1\u001b[0m six \u001b[38;5;241m=\u001b[39m \u001b[38;5;241;43m1\u001b[39;49m\u001b[43m \u001b[49m\u001b[38;5;241;43m+\u001b[39;49m\u001b[43m \u001b[49m\u001b[43mfive\u001b[49m\n",
      "\u001b[0;31mTypeError\u001b[0m: unsupported operand type(s) for +: 'int' and 'Number'"
     ]
    }
   ],
   "source": [
    "six = 1 + five"
   ]
  },
  {
   "cell_type": "markdown",
   "metadata": {},
   "source": [
    "The above doesn't work as we have no implementation to check if add works for int + Number in the first operand, i.e 1  \n",
    "So we add another method of radd which supports right first "
   ]
  },
  {
   "cell_type": "code",
   "execution_count": 70,
   "metadata": {},
   "outputs": [],
   "source": [
    "class Number:\n",
    "    def __init__(self, value) -> None:\n",
    "        self.value = value\n",
    "    \n",
    "    def __add__(self, other):\n",
    "        print(\"add called\")\n",
    "        if(isinstance(other,Number)):\n",
    "            return Number(self.value + other.value)\n",
    "        elif(isinstance(other,int or float)):\n",
    "            return Number(self.value + other)\n",
    "        else:\n",
    "            raise TypeError(\"Unsupported types for +\")\n",
    "    \n",
    "    def __radd__(self,other):\n",
    "        print(\"radd called\")\n",
    "        return self.__add__(other)"
   ]
  },
  {
   "cell_type": "code",
   "execution_count": 72,
   "metadata": {},
   "outputs": [
    {
     "name": "stdout",
     "output_type": "stream",
     "text": [
      "radd called\n",
      "add called\n"
     ]
    },
    {
     "data": {
      "text/plain": [
       "6"
      ]
     },
     "execution_count": 72,
     "metadata": {},
     "output_type": "execute_result"
    }
   ],
   "source": [
    "five = Number(5)\n",
    "six = 1 + five\n",
    "six.value"
   ]
  },
  {
   "cell_type": "code",
   "execution_count": 73,
   "metadata": {},
   "outputs": [
    {
     "name": "stdout",
     "output_type": "stream",
     "text": [
      "add called\n"
     ]
    },
    {
     "data": {
      "text/plain": [
       "7"
      ]
     },
     "execution_count": 73,
     "metadata": {},
     "output_type": "execute_result"
    }
   ],
   "source": [
    "one = Number(1)\n",
    "seven = one + six\n",
    "seven.value"
   ]
  },
  {
   "cell_type": "code",
   "execution_count": 74,
   "metadata": {},
   "outputs": [
    {
     "name": "stdout",
     "output_type": "stream",
     "text": [
      "add called\n"
     ]
    },
    {
     "data": {
      "text/plain": [
       "7"
      ]
     },
     "execution_count": 74,
     "metadata": {},
     "output_type": "execute_result"
    }
   ],
   "source": [
    "seven = six + 1\n",
    "seven.value"
   ]
  },
  {
   "cell_type": "code",
   "execution_count": 75,
   "metadata": {},
   "outputs": [
    {
     "name": "stdout",
     "output_type": "stream",
     "text": [
      "radd called\n",
      "add called\n"
     ]
    },
    {
     "data": {
      "text/plain": [
       "7"
      ]
     },
     "execution_count": 75,
     "metadata": {},
     "output_type": "execute_result"
    }
   ],
   "source": [
    "seven = 1 + six\n",
    "seven.value"
   ]
  },
  {
   "cell_type": "markdown",
   "metadata": {},
   "source": [
    "The reason your first code doesn't work when adding an `int` to a `Number` object (i.e., `1 + five`) but works for `five + 1` is due to Python's internal mechanism for handling binary operations like addition (`+`).\n",
    "\n",
    "Here's what happens in each case:\n",
    "\n",
    "##### Case 1: `five + 1`\n",
    "In this case, Python tries to call the `__add__` method on the `Number` object (`five`), which works because you've defined `__add__` in the `Number` class. The method checks if the other operand (`1`) is an `int` or `float` and returns the correct result.\n",
    "\n",
    "##### Case 2: `1 + five`\n",
    "This is where it doesn't work without the `__radd__` method. Here’s why:\n",
    "1. Python first tries to call `__add__` on the `int` object (`1`). Since `int` does not know how to add itself to a `Number` object, it fails.\n",
    "2. When Python can't perform the addition from the left-hand side (`1`), it looks for a method called `__radd__` (right-side addition) in the `Number` class.\n",
    "3. Since the `Number` class didn’t have an `__radd__` method in your first implementation, Python throws an error. But after you added the `__radd__` method, Python knows how to handle the operation.\n",
    "\n",
    "##### Solution: The `__radd__` Method\n",
    "\n",
    "The second code works because you define the `__radd__` method. Python calls this method when the left operand doesn't know how to handle the operation (like when trying to add an `int` and a `Number`).\n",
    "\n",
    "##### Key Points:\n",
    "- **`__add__`**: Handles the `Number + int` or `Number + Number` case.\n",
    "- **`__radd__`**: Handles the `int + Number` or `float + Number` case, which is needed when the first operand doesn’t support adding a `Number`.\n",
    "\n",
    "In Python, this mechanism ensures that you can perform operations regardless of the order of the operands (`Number + int` or `int + Number`)."
   ]
  },
  {
   "cell_type": "code",
   "execution_count": null,
   "metadata": {},
   "outputs": [],
   "source": []
  }
 ],
 "metadata": {
  "kernelspec": {
   "display_name": ".venv",
   "language": "python",
   "name": "python3"
  },
  "language_info": {
   "codemirror_mode": {
    "name": "ipython",
    "version": 3
   },
   "file_extension": ".py",
   "mimetype": "text/x-python",
   "name": "python",
   "nbconvert_exporter": "python",
   "pygments_lexer": "ipython3",
   "version": "3.12.4"
  }
 },
 "nbformat": 4,
 "nbformat_minor": 2
}
